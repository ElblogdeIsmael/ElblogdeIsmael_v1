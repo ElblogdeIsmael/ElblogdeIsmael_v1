{
  "nbformat": 4,
  "nbformat_minor": 0,
  "metadata": {
    "colab": {
      "provenance": [],
      "authorship_tag": "ABX9TyMOqEnQ1ASEWKLvsUKhqyTw"
    },
    "kernelspec": {
      "name": "python3",
      "display_name": "Python 3"
    },
    "language_info": {
      "name": "python"
    }
  },
  "cells": [
    {
      "cell_type": "code",
      "execution_count": 1,
      "metadata": {
        "id": "wrNMByTuAthz"
      },
      "outputs": [],
      "source": [
        "import pandas as pd #librería para manejo de datos\n",
        "\n",
        "datos= pd.read_csv(\"https://rtgodwin.com/data/houseprice.csv\") #Lee base de datos de web..."
      ]
    },
    {
      "cell_type": "code",
      "source": [
        "import statsmodels.api as sm\n",
        "\n",
        "y=datos[\"Price\"]\n",
        "X=datos[['Lot.Size', 'Age', 'Land.Value',   'Living.Area', 'Bedrooms']]\n",
        "\n",
        "mco = sm.OLS(y, sm.add_constant(X)).fit()\n",
        "print(mco.summary())\n"
      ],
      "metadata": {
        "colab": {
          "base_uri": "https://localhost:8080/"
        },
        "id": "CwmO29CyAv8o",
        "outputId": "115e63d4-3abe-43ea-a1ed-181d83fbd709"
      },
      "execution_count": 2,
      "outputs": [
        {
          "output_type": "stream",
          "name": "stdout",
          "text": [
            "                            OLS Regression Results                            \n",
            "==============================================================================\n",
            "Dep. Variable:                  Price   R-squared:                       0.614\n",
            "Model:                            OLS   Adj. R-squared:                  0.612\n",
            "Method:                 Least Squares   F-statistic:                     546.8\n",
            "Date:                Tue, 19 Nov 2024   Prob (F-statistic):               0.00\n",
            "Time:                        19:14:25   Log-Likelihood:                -21497.\n",
            "No. Observations:                1728   AIC:                         4.301e+04\n",
            "Df Residuals:                    1722   BIC:                         4.304e+04\n",
            "Df Model:                           5                                         \n",
            "Covariance Type:            nonrobust                                         \n",
            "===============================================================================\n",
            "                  coef    std err          t      P>|t|      [0.025      0.975]\n",
            "-------------------------------------------------------------------------------\n",
            "const        4.108e+04   6092.721      6.742      0.000    2.91e+04     5.3e+04\n",
            "Lot.Size     6746.9460   2139.791      3.153      0.002    2550.084    1.09e+04\n",
            "Age          -261.8782     52.402     -4.998      0.000    -364.656    -159.100\n",
            "Land.Value      0.9592      0.047     20.442      0.000       0.867       1.051\n",
            "Living.Area    92.4053      3.578     25.824      0.000      85.387      99.424\n",
            "Bedrooms    -6496.7342   2454.477     -2.647      0.008   -1.13e+04   -1682.664\n",
            "==============================================================================\n",
            "Omnibus:                      606.300   Durbin-Watson:                   1.708\n",
            "Prob(Omnibus):                  0.000   Jarque-Bera (JB):             4322.416\n",
            "Skew:                           1.458   Prob(JB):                         0.00\n",
            "Kurtosis:                      10.179   Cond. No.                     2.10e+05\n",
            "==============================================================================\n",
            "\n",
            "Notes:\n",
            "[1] Standard Errors assume that the covariance matrix of the errors is correctly specified.\n",
            "[2] The condition number is large, 2.1e+05. This might indicate that there are\n",
            "strong multicollinearity or other numerical problems.\n"
          ]
        }
      ]
    },
    {
      "cell_type": "markdown",
      "source": [
        "# Golfeld-Quandt"
      ],
      "metadata": {
        "id": "Nof_4ieOBAN7"
      }
    },
    {
      "cell_type": "code",
      "source": [
        "import statsmodels.stats.diagnostic as sm_diagnostic\n",
        "#GOLDFELD-QUANDT (Muestras Pequeñas)\n",
        "GQ=sm_diagnostic.het_goldfeldquandt(y, sm.add_constant(datos[\"Age\"]), alternative=\"increasing\")\n",
        "print(\"Goldfeld Quandt: \", GQ)\n",
        "\n",
        "import statsmodels.stats.diagnostic as sm_diagnostic\n",
        "#GOLDFELD-QUANDT (Muestras Pequeñas)\n",
        "GQ=sm_diagnostic.het_goldfeldquandt(y, sm.add_constant(datos[\"Age\"]), alternative=\"decreasing\")\n",
        "print(\"Goldfeld Quandt: \", GQ)\n",
        "\n",
        "import statsmodels.stats.diagnostic as sm_diagnostic\n",
        "#GOLDFELD-QUANDT (Muestras Pequeñas)\n",
        "GQ=sm_diagnostic.het_goldfeldquandt(y, sm.add_constant(datos[\"Age\"]), alternative=\"two-sided\")\n",
        "print(\"Goldfeld Quandt: \", GQ)"
      ],
      "metadata": {
        "colab": {
          "base_uri": "https://localhost:8080/"
        },
        "id": "mHqcNhBEBCJL",
        "outputId": "2d2b5519-00a4-4bc5-e68e-453576c51c78"
      },
      "execution_count": 11,
      "outputs": [
        {
          "output_type": "stream",
          "name": "stdout",
          "text": [
            "Goldfeld Quandt:  (0.9174070641302953, 0.8970472977178043, 'increasing')\n",
            "Goldfeld Quandt:  (0.9174070641302953, 0.10295270228219566, 'decreasing')\n",
            "Goldfeld Quandt:  (0.9174070641302953, 0.2059054045644021, 'two-sided')\n"
          ]
        }
      ]
    },
    {
      "cell_type": "markdown",
      "source": [],
      "metadata": {
        "id": "msDZOFl8mWdr"
      }
    },
    {
      "cell_type": "markdown",
      "source": [
        "# Breush-Pagan"
      ],
      "metadata": {
        "id": "BuFB9E2lBIn0"
      }
    },
    {
      "cell_type": "code",
      "source": [
        "#BREUSH-PAGAN\n",
        "BP=sm_diagnostic.het_breuschpagan(mco.resid, mco.model.exog)\n",
        "print(\"Breush Pagan: \", BP)"
      ],
      "metadata": {
        "colab": {
          "base_uri": "https://localhost:8080/"
        },
        "id": "v_eeYhrXBF_n",
        "outputId": "bd999876-b29c-49ca-d78d-72baf429fa51"
      },
      "execution_count": 5,
      "outputs": [
        {
          "output_type": "stream",
          "name": "stdout",
          "text": [
            "Breush Pagan:  (112.93359929175486, 9.824689989862927e-23, 24.08218731999146, 1.7388233505908317e-23)\n"
          ]
        }
      ]
    },
    {
      "cell_type": "markdown",
      "source": [
        "# White"
      ],
      "metadata": {
        "id": "Mjq4LNrDBV04"
      }
    },
    {
      "cell_type": "code",
      "source": [
        "#WHITE\n",
        "W=sm_diagnostic.het_white(mco.resid, mco.model.exog)\n",
        "print(\"White: \", W)"
      ],
      "metadata": {
        "colab": {
          "base_uri": "https://localhost:8080/"
        },
        "id": "q3iUt_a0BW0m",
        "outputId": "3746e96d-7b08-4d08-eb57-bddf0e2abd12"
      },
      "execution_count": 6,
      "outputs": [
        {
          "output_type": "stream",
          "name": "stdout",
          "text": [
            "White:  (136.58087964560715, 2.247089289312114e-19, 7.325020749503522, 2.8839807158113604e-20)\n"
          ]
        }
      ]
    },
    {
      "cell_type": "markdown",
      "source": [
        "# Glejser"
      ],
      "metadata": {
        "id": "DVYU7p5vBd54"
      }
    },
    {
      "cell_type": "code",
      "source": [
        "#GLEJSER\n",
        "import numpy as np\n",
        "z=np.array(datos[\"Land.Value\"].values, dtype=float)\n",
        "for h in [-2, -1, -0.5, 0.5, 1, 2]:\n",
        "    # |e| = delta_0 + delta_1 z^h + eps\n",
        "    mcoaux=sm.OLS(abs(mco.resid), sm.add_constant(z**h)).fit()\n",
        "    pval=mcoaux.pvalues[\"x1\"]\n",
        "    print(\"h: \", h, \"-> pvalt:\", pval, \"R2: \", mcoaux.rsquared)"
      ],
      "metadata": {
        "id": "aSTFzh6TBe9g",
        "outputId": "2f00d2f7-9081-4e9d-b479-c5db2159d25d",
        "colab": {
          "base_uri": "https://localhost:8080/"
        }
      },
      "execution_count": 7,
      "outputs": [
        {
          "output_type": "stream",
          "name": "stdout",
          "text": [
            "h:  -2 -> pvalt: 0.7047749557327434 R2:  8.319103967269204e-05\n",
            "h:  -1 -> pvalt: 0.08731978342281305 R2:  0.0016926273408465198\n",
            "h:  -0.5 -> pvalt: 1.270199618513564e-06 R2:  0.013508522350844765\n",
            "h:  0.5 -> pvalt: 2.5504307984884467e-29 R2:  0.0706196791733682\n",
            "h:  1 -> pvalt: 4.091032734521836e-33 R2:  0.07991715587504711\n",
            "h:  2 -> pvalt: 1.2193034771315243e-22 R2:  0.05405198733539229\n"
          ]
        }
      ]
    },
    {
      "cell_type": "markdown",
      "source": [
        "$|e_i| = \\alpha_0 + \\alpha_1 z_i + v_i$\n",
        "\n",
        "$w_i = \\frac{1}{\\sqrt{z_i}}$"
      ],
      "metadata": {
        "id": "PFt8PmtgDk1w"
      }
    },
    {
      "cell_type": "markdown",
      "source": [
        "# Mínimos Cuadrados Ponderados"
      ],
      "metadata": {
        "id": "6p5MEez0D4Ng"
      }
    },
    {
      "cell_type": "code",
      "source": [
        "mcp = sm.WLS(y, sm.add_constant(X), weights=1./np.sqrt(z)).fit()\n",
        "print(mcp.summary())"
      ],
      "metadata": {
        "id": "wb-YP36IDv_1",
        "outputId": "b692e4d5-767e-4810-82cc-a74bd534cd14",
        "colab": {
          "base_uri": "https://localhost:8080/"
        }
      },
      "execution_count": 9,
      "outputs": [
        {
          "output_type": "stream",
          "name": "stdout",
          "text": [
            "                            WLS Regression Results                            \n",
            "==============================================================================\n",
            "Dep. Variable:                  Price   R-squared:                       0.593\n",
            "Model:                            WLS   Adj. R-squared:                  0.592\n",
            "Method:                 Least Squares   F-statistic:                     501.3\n",
            "Date:                Tue, 19 Nov 2024   Prob (F-statistic):               0.00\n",
            "Time:                        19:22:53   Log-Likelihood:                -21457.\n",
            "No. Observations:                1728   AIC:                         4.293e+04\n",
            "Df Residuals:                    1722   BIC:                         4.296e+04\n",
            "Df Model:                           5                                         \n",
            "Covariance Type:            nonrobust                                         \n",
            "===============================================================================\n",
            "                  coef    std err          t      P>|t|      [0.025      0.975]\n",
            "-------------------------------------------------------------------------------\n",
            "const          3.6e+04   5514.416      6.529      0.000    2.52e+04    4.68e+04\n",
            "Lot.Size     8562.2957   2055.286      4.166      0.000    4531.176    1.26e+04\n",
            "Age          -351.2880     43.370     -8.100      0.000    -436.351    -266.225\n",
            "Land.Value      0.9303      0.058     15.912      0.000       0.816       1.045\n",
            "Living.Area    93.7716      3.404     27.544      0.000      87.094     100.449\n",
            "Bedrooms    -4715.6567   2247.279     -2.098      0.036   -9123.341    -307.972\n",
            "==============================================================================\n",
            "Omnibus:                      653.789   Durbin-Watson:                   1.678\n",
            "Prob(Omnibus):                  0.000   Jarque-Bera (JB):             5300.359\n",
            "Skew:                           1.551   Prob(JB):                         0.00\n",
            "Kurtosis:                      11.000   Cond. No.                     1.40e+05\n",
            "==============================================================================\n",
            "\n",
            "Notes:\n",
            "[1] Standard Errors assume that the covariance matrix of the errors is correctly specified.\n",
            "[2] The condition number is large, 1.4e+05. This might indicate that there are\n",
            "strong multicollinearity or other numerical problems.\n"
          ]
        }
      ]
    },
    {
      "cell_type": "code",
      "source": [],
      "metadata": {
        "id": "Z74WUeDSD9i5"
      },
      "execution_count": null,
      "outputs": []
    }
  ]
}